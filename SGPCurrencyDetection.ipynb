{
 "cells": [
  {
   "cell_type": "markdown",
   "metadata": {
    "colab_type": "text",
    "id": "view-in-github"
   },
   "source": [
    "<a href=\"https://colab.research.google.com/github/AadityaKhetan/VISION/blob/master/SGPCurrencyDetection.ipynb\" target=\"_parent\"><img src=\"https://colab.research.google.com/assets/colab-badge.svg\" alt=\"Open In Colab\"/></a>"
   ]
  },
  {
   "cell_type": "code",
   "execution_count": 1,
   "metadata": {
    "id": "fsmJ18SaVM07"
   },
   "outputs": [],
   "source": [
    "import os\n",
    "import zipfile\n",
    "import random\n",
    "import tensorflow as tf\n",
    "from tensorflow.keras.optimizers import RMSprop\n",
    "from tensorflow.keras.preprocessing.image import ImageDataGenerator\n",
    "from shutil import copyfile\n",
    "\n"
   ]
  },
  {
   "cell_type": "markdown",
   "metadata": {
    "id": "RSEEWBSIXpBh"
   },
   "source": []
  },
  {
   "cell_type": "code",
   "execution_count": 2,
   "metadata": {
    "id": "hZydPksyXpfJ"
   },
   "outputs": [],
   "source": [
    "local_zip = 'D:/Chinnu_Project/VISION/CUR_Dataset/Thai and Indian Currency Dataset256x256.zip'\n",
    "zip_ref = zipfile.ZipFile(local_zip, 'r')\n",
    "zip_ref.extractall('D:/Chinnu_Project/VISION/CUR_Dataset/tmp/')\n",
    "zip_ref.close()\n",
    "#location=\"D:/Chinnu_Project/VISION/CUR_Dataset/tmp/Thai and Indian Currency Dataset256x256/Thai Currencies\"\n",
    "#location2=\"D:/Chinnu_Project/VISION/CUR_Dataset/tmp/Thai and Indian Currency Dataset256x256/Indian Currencies/2000/INDIA2000_16.jpg\"\n",
    "#!rm -rf '/tmp/Thai and Indian Currency Dataset256x256/Thai Currencies'\n",
    "#os.remove(location)\n",
    "\n",
    "#!rm -rf '/tmp/Thai and Indian Currency Dataset256x256/Indian Currencies/2000/INDIA2000_16.jpg'\n",
    "#os.remove(location2)"
   ]
  },
  {
   "cell_type": "markdown",
   "metadata": {
    "id": "s9Yo4hRIYU-S"
   },
   "source": []
  },
  {
   "cell_type": "code",
   "execution_count": 3,
   "metadata": {
    "id": "nb-4xGBmYVSl"
   },
   "outputs": [],
   "source": [
    "train_10_New = os.path.join('D:/Chinnu_Project/VISION/CUR_Dataset/tmp/Thai and Indian Currency Dataset256x256/Indian Currencies/10 New')\n",
    "train_10_Old = os.path.join('D:/Chinnu_Project/VISION/CUR_Dataset/tmp/Thai and Indian Currency Dataset256x256/Indian Currencies/10 Old')\n",
    "train_100_New = os.path.join('D:/Chinnu_Project/VISION/CUR_Dataset/tmp/Thai and Indian Currency Dataset256x256/Indian Currencies/100 New')\n",
    "train_100_Old = os.path.join('D:/Chinnu_Project/VISION/CUR_Dataset/tmp/Thai and Indian Currency Dataset256x256/Indian Currencies/100 Old')\n",
    "train_20 = os.path.join('D:/Chinnu_Project/VISION/CUR_Dataset/tmp/Thai and Indian Currency Dataset256x256/Indian Currencies/20')\n",
    "train_200 = os.path.join('D:/Chinnu_Project/VISION/CUR_Dataset/tmp/Thai and Indian Currency Dataset256x256/Indian Currencies/200')\n",
    "train_2000 = os.path.join('D:/Chinnu_Project/VISION/CUR_Dataset/tmp/Thai and Indian Currency Dataset256x256/Indian Currencies/2000')\n",
    "train_50_New = os.path.join('D:/Chinnu_Project/VISION/CUR_Dataset/tmp/Thai and Indian Currency Dataset256x256/Indian Currencies/50 New')\n",
    "train_50_Old = os.path.join('D:/Chinnu_Project/VISION/CUR_Dataset/tmp/Thai and Indian Currency Dataset256x256/Indian Currencies/50 Old')\n",
    "train_500 = os.path.join('D:/Chinnu_Project/VISION/CUR_Dataset/tmp/Thai and Indian Currency Dataset256x256/Indian Currencies/500')"
   ]
  },
  {
   "cell_type": "markdown",
   "metadata": {
    "id": "QJF15phlYgBX"
   },
   "source": []
  },
  {
   "cell_type": "code",
   "execution_count": 4,
   "metadata": {
    "colab": {
     "base_uri": "https://localhost:8080/"
    },
    "id": "oRTmnxVdYgVi",
    "outputId": "115f808e-fb62-4dd6-9359-285ae65159c5"
   },
   "outputs": [
    {
     "name": "stdout",
     "output_type": "stream",
     "text": [
      "total training images of 10 New:  250\n",
      "total training images of 10 Old:  190\n",
      "total training images of 100 New: 190\n",
      "total training images of 100 Old: 190\n",
      "total training images of 20:      190\n",
      "total training images of 200:     190\n",
      "total training images of 2000:    189\n",
      "total training images of 50 New:  190\n",
      "total training images of 50 Old:  190\n",
      "total training images of 500:     190\n"
     ]
    }
   ],
   "source": [
    "print('total training images of 10 New: ', len(os.listdir(train_10_New)))\n",
    "print('total training images of 10 Old: ', len(os.listdir(train_10_Old)))\n",
    "print('total training images of 100 New:', len(os.listdir(train_100_New)))\n",
    "print('total training images of 100 Old:', len(os.listdir(train_100_Old)))\n",
    "print('total training images of 20:     ', len(os.listdir(train_20)))\n",
    "print('total training images of 200:    ', len(os.listdir(train_200)))\n",
    "print('total training images of 2000:   ', len(os.listdir(train_2000)))\n",
    "print('total training images of 50 New: ', len(os.listdir(train_50_New)))\n",
    "print('total training images of 50 Old: ', len(os.listdir(train_50_Old)))\n",
    "print('total training images of 500:    ', len(os.listdir(train_500)))"
   ]
  },
  {
   "cell_type": "markdown",
   "metadata": {
    "id": "HOTRaHbQZIIW"
   },
   "source": []
  },
  {
   "cell_type": "code",
   "execution_count": 5,
   "metadata": {
    "colab": {
     "base_uri": "https://localhost:8080/"
    },
    "id": "u24Yw3LaT6Vq",
    "outputId": "09666744-6de7-4b10-8c16-eb3bd99ab85b"
   },
   "outputs": [
    {
     "name": "stdout",
     "output_type": "stream",
     "text": [
      "D:/Chinnu_Project/VISION/CUR_Dataset/tmp/indiancurrency failed\n",
      "D:/Chinnu_Project/VISION/CUR_Dataset/tmp/indiancurrency/training failed\n",
      "D:/Chinnu_Project/VISION/CUR_Dataset/tmp/indiancurrency/testing failed\n",
      "D:/Chinnu_Project/VISION/CUR_Dataset/tmp/indiancurrency/training/10New failed\n",
      "D:/Chinnu_Project/VISION/CUR_Dataset/tmp/indiancurrency/testing/10New failed\n",
      "D:/Chinnu_Project/VISION/CUR_Dataset/tmp/indiancurrency/training/10Old failed\n",
      "D:/Chinnu_Project/VISION/CUR_Dataset/tmp/indiancurrency/testing/10Old failed\n",
      "D:/Chinnu_Project/VISION/CUR_Dataset/tmp/indiancurrency/training/100New failed\n",
      "D:/Chinnu_Project/VISION/CUR_Dataset/tmp/indiancurrency/testing/100New failed\n",
      "D:/Chinnu_Project/VISION/CUR_Dataset/tmp/indiancurrency/training/100Old failed\n",
      "D:/Chinnu_Project/VISION/CUR_Dataset/tmp/indiancurrency/testing/100Old failed\n",
      "D:/Chinnu_Project/VISION/CUR_Dataset/tmp/indiancurrency/training/20 failed\n",
      "D:/Chinnu_Project/VISION/CUR_Dataset/tmp/indiancurrency/testing/20 failed\n",
      "D:/Chinnu_Project/VISION/CUR_Dataset/tmp/indiancurrency/training/200 failed\n",
      "D:/Chinnu_Project/VISION/CUR_Dataset/tmp/indiancurrency/testing/200 failed\n",
      "D:/Chinnu_Project/VISION/CUR_Dataset/tmp/indiancurrency/training/2000 failed\n",
      "D:/Chinnu_Project/VISION/CUR_Dataset/tmp/indiancurrency/testing/2000 failed\n",
      "D:/Chinnu_Project/VISION/CUR_Dataset/tmp/indiancurrency/training/50New failed\n",
      "D:/Chinnu_Project/VISION/CUR_Dataset/tmp/indiancurrency/testing/50New failed\n",
      "D:/Chinnu_Project/VISION/CUR_Dataset/tmp/indiancurrency/training/50Old failed\n",
      "D:/Chinnu_Project/VISION/CUR_Dataset/tmp/indiancurrency/testing/50Old failed\n",
      "D:/Chinnu_Project/VISION/CUR_Dataset/tmp/indiancurrency/training/500 failed\n",
      "D:/Chinnu_Project/VISION/CUR_Dataset/tmp/indiancurrency/testing/500 failed\n"
     ]
    }
   ],
   "source": [
    "to_create = [\n",
    "    'D:/Chinnu_Project/VISION/CUR_Dataset/tmp/indiancurrency',\n",
    "    'D:/Chinnu_Project/VISION/CUR_Dataset/tmp/indiancurrency/training',\n",
    "    'D:/Chinnu_Project/VISION/CUR_Dataset/tmp/indiancurrency/testing',\n",
    "    'D:/Chinnu_Project/VISION/CUR_Dataset/tmp/indiancurrency/training/10New',\n",
    "    'D:/Chinnu_Project/VISION/CUR_Dataset/tmp/indiancurrency/testing/10New',\n",
    "    'D:/Chinnu_Project/VISION/CUR_Dataset/tmp/indiancurrency/training/10Old',\n",
    "    'D:/Chinnu_Project/VISION/CUR_Dataset/tmp/indiancurrency/testing/10Old',\n",
    "    'D:/Chinnu_Project/VISION/CUR_Dataset/tmp/indiancurrency/training/100New',\n",
    "    'D:/Chinnu_Project/VISION/CUR_Dataset/tmp/indiancurrency/testing/100New',\n",
    "    'D:/Chinnu_Project/VISION/CUR_Dataset/tmp/indiancurrency/training/100Old',\n",
    "    'D:/Chinnu_Project/VISION/CUR_Dataset/tmp/indiancurrency/testing/100Old',\n",
    "    'D:/Chinnu_Project/VISION/CUR_Dataset/tmp/indiancurrency/training/20',\n",
    "    'D:/Chinnu_Project/VISION/CUR_Dataset/tmp/indiancurrency/testing/20',\n",
    "    'D:/Chinnu_Project/VISION/CUR_Dataset/tmp/indiancurrency/training/200',\n",
    "    'D:/Chinnu_Project/VISION/CUR_Dataset/tmp/indiancurrency/testing/200',\n",
    "    'D:/Chinnu_Project/VISION/CUR_Dataset/tmp/indiancurrency/training/2000',\n",
    "    'D:/Chinnu_Project/VISION/CUR_Dataset/tmp/indiancurrency/testing/2000',\n",
    "    'D:/Chinnu_Project/VISION/CUR_Dataset/tmp/indiancurrency/training/50New',\n",
    "    'D:/Chinnu_Project/VISION/CUR_Dataset/tmp/indiancurrency/testing/50New',\n",
    "    'D:/Chinnu_Project/VISION/CUR_Dataset/tmp/indiancurrency/training/50Old',\n",
    "    'D:/Chinnu_Project/VISION/CUR_Dataset/tmp/indiancurrency/testing/50Old',\n",
    "    'D:/Chinnu_Project/VISION/CUR_Dataset/tmp/indiancurrency/training/500',\n",
    "    'D:/Chinnu_Project/VISION/CUR_Dataset/tmp/indiancurrency/testing/500'\n",
    "]\n",
    "\n",
    "for directory in to_create:\n",
    "    try:\n",
    "        os.mkdir(directory)\n",
    "        print(directory, 'created')\n",
    "    except:\n",
    "        print(directory, 'failed')"
   ]
  },
  {
   "cell_type": "code",
   "execution_count": 6,
   "metadata": {
    "colab": {
     "base_uri": "https://localhost:8080/"
    },
    "id": "pqkJQaJfUdtZ",
    "outputId": "67524b83-61f0-4ea5-d159-e0ef8c16a799"
   },
   "outputs": [
    {
     "name": "stdout",
     "output_type": "stream",
     "text": [
      "440\n",
      "118\n",
      "440\n",
      "118\n",
      "190\n",
      "53\n",
      "190\n",
      "53\n",
      "190\n",
      "54\n",
      "190\n",
      "52\n",
      "189\n",
      "52\n",
      "190\n",
      "50\n",
      "190\n",
      "53\n",
      "190\n",
      "52\n"
     ]
    }
   ],
   "source": [
    "def split_data(SOURCE, TRAINING, TESTING, SPLIT_SIZE):\n",
    "    all_files = []\n",
    "    \n",
    "    for file_name in os.listdir(SOURCE):\n",
    "        file_path = SOURCE + file_name\n",
    "\n",
    "        if os.path.getsize(file_path):\n",
    "            all_files.append(file_name)\n",
    "        else:\n",
    "            print('{} is zero length, so ignoring'.format(file_name))\n",
    "    \n",
    "    n_files = len(all_files)\n",
    "    split_point = int(n_files * SPLIT_SIZE)\n",
    "    \n",
    "    shuffled = random.sample(all_files, n_files)\n",
    "    \n",
    "    train_set = shuffled[:split_point]\n",
    "    test_set = shuffled[split_point:]\n",
    "    \n",
    "    for file_name in train_set:\n",
    "        copyfile(SOURCE + file_name, TRAINING + file_name)\n",
    "        \n",
    "    for file_name in test_set:\n",
    "        copyfile(SOURCE + file_name, TESTING + file_name)\n",
    "\n",
    "split_size = .9\n",
    "\n",
    "NEW10_SOURCE_DIR = r\"D:/Chinnu_Project/VISION/CUR_Dataset/tmp/Thai and Indian Currency Dataset256x256/Indian Currencies/10 New/\"\n",
    "TRAINING_NEW10_DIR = r\"D:/Chinnu_Project/VISION/CUR_Dataset/tmp/indiancurrency/training/10New/\"\n",
    "TESTING_NEW10_DIR = r\"D:/Chinnu_Project/VISION/CUR_Dataset/tmp/indiancurrency/testing/10New/\"\n",
    "\n",
    "split_data(NEW10_SOURCE_DIR, TRAINING_NEW10_DIR, TESTING_NEW10_DIR, split_size)\n",
    "\n",
    "Old10_SOURCE_DIR = r\"D:/Chinnu_Project/VISION/CUR_Dataset/tmp/Thai and Indian Currency Dataset256x256/Indian Currencies/10 Old/\"\n",
    "TRAINING_OLD10_DIR = r\"D:/Chinnu_Project/VISION/CUR_Dataset/tmp/indiancurrency/training/10New/\"\n",
    "TESTING_OLD10_DIR = r\"D:/Chinnu_Project/VISION/CUR_Dataset/tmp/indiancurrency/testing/10New/\"\n",
    "\n",
    "split_data(Old10_SOURCE_DIR, TRAINING_OLD10_DIR, TESTING_OLD10_DIR, split_size)\n",
    "\n",
    "NEW100_SOURCE_DIR = r\"D:/Chinnu_Project/VISION/CUR_Dataset/tmp/Thai and Indian Currency Dataset256x256/Indian Currencies/100 New/\"\n",
    "TRAINING_NEW100_DIR = r\"D:/Chinnu_Project/VISION/CUR_Dataset/tmp/indiancurrency/training/100New/\"\n",
    "TESTING_NEW100_DIR = r\"D:/Chinnu_Project/VISION/CUR_Dataset/tmp/indiancurrency/testing/100New/\"\n",
    "\n",
    "split_data(NEW100_SOURCE_DIR, TRAINING_NEW100_DIR, TESTING_NEW100_DIR, split_size)\n",
    "\n",
    "OLD100_SOURCE_DIR = r\"D:/Chinnu_Project/VISION/CUR_Dataset/tmp/Thai and Indian Currency Dataset256x256/Indian Currencies/100 Old/\"\n",
    "TRAINING_OLD100_DIR = r\"D:/Chinnu_Project/VISION/CUR_Dataset/tmp/indiancurrency/training/100Old/\"\n",
    "TESTING_OLD100_DIR = r\"D:/Chinnu_Project/VISION/CUR_Dataset/tmp/indiancurrency/testing/100Old/\"\n",
    "\n",
    "split_data(OLD100_SOURCE_DIR, TRAINING_OLD100_DIR, TESTING_OLD100_DIR, split_size)\n",
    "\n",
    "NEW20_SOURCE_DIR = r\"D:/Chinnu_Project/VISION/CUR_Dataset/tmp/Thai and Indian Currency Dataset256x256/Indian Currencies/20/\"\n",
    "TRAINING_NEW20_DIR = r\"D:/Chinnu_Project/VISION/CUR_Dataset/tmp/indiancurrency/training/20/\"\n",
    "TESTING_NEW20_DIR = r\"D:/Chinnu_Project/VISION/CUR_Dataset/tmp/indiancurrency/testing/20/\"\n",
    "\n",
    "split_data(NEW20_SOURCE_DIR, TRAINING_NEW20_DIR, TESTING_NEW20_DIR, split_size)\n",
    "\n",
    "NEW200_SOURCE_DIR = r\"D:/Chinnu_Project/VISION/CUR_Dataset/tmp/Thai and Indian Currency Dataset256x256/Indian Currencies/200/\"\n",
    "TRAINING_NEW200_DIR = r\"D:/Chinnu_Project/VISION/CUR_Dataset/tmp/indiancurrency/training/200/\"\n",
    "TESTING_NEW200_DIR = r\"D:/Chinnu_Project/VISION/CUR_Dataset/tmp/indiancurrency/testing/200/\"\n",
    "\n",
    "split_data(NEW200_SOURCE_DIR, TRAINING_NEW200_DIR, TESTING_NEW200_DIR, split_size)\n",
    "\n",
    "NEW2000_SOURCE_DIR = r\"D:/Chinnu_Project/VISION/CUR_Dataset/tmp/Thai and Indian Currency Dataset256x256/Indian Currencies/2000/\"\n",
    "TRAINING_NEW2000_DIR = r\"D:/Chinnu_Project/VISION/CUR_Dataset/tmp/indiancurrency/training/2000/\"\n",
    "TESTING_NEW2000_DIR = r\"D:/Chinnu_Project/VISION/CUR_Dataset/tmp/indiancurrency/testing/2000/\"\n",
    "\n",
    "split_data(NEW2000_SOURCE_DIR, TRAINING_NEW2000_DIR, TESTING_NEW2000_DIR, split_size)\n",
    "\n",
    "NEW50_SOURCE_DIR = r\"D:/Chinnu_Project/VISION/CUR_Dataset/tmp/Thai and Indian Currency Dataset256x256/Indian Currencies/50 New/\"\n",
    "TRAINING_NEW50_DIR = r\"D:/Chinnu_Project/VISION/CUR_Dataset/tmp/indiancurrency/training/50New/\"\n",
    "TESTING_NEW50_DIR = r\"D:/Chinnu_Project/VISION/CUR_Dataset/tmp/indiancurrency/testing/50New/\"\n",
    "\n",
    "split_data(NEW50_SOURCE_DIR, TRAINING_NEW50_DIR, TESTING_NEW50_DIR, split_size)\n",
    "\n",
    "OLD50_SOURCE_DIR = r\"D:/Chinnu_Project/VISION/CUR_Dataset/tmp/Thai and Indian Currency Dataset256x256/Indian Currencies/50 Old/\"\n",
    "TRAINING_OLD50_DIR = r\"D:/Chinnu_Project/VISION/CUR_Dataset/tmp/indiancurrency/training/50Old/\"\n",
    "TESTING_OLD50_DIR = r\"D:/Chinnu_Project/VISION/CUR_Dataset/tmp/indiancurrency/testing/50Old/\"\n",
    "\n",
    "split_data(OLD50_SOURCE_DIR, TRAINING_OLD50_DIR, TESTING_OLD50_DIR, split_size)\n",
    "\n",
    "NEW500_SOURCE_DIR = r\"D:/Chinnu_Project/VISION/CUR_Dataset/tmp/Thai and Indian Currency Dataset256x256/Indian Currencies/500/\"\n",
    "TRAINING_NEW500_DIR = r\"D:/Chinnu_Project/VISION/CUR_Dataset/tmp/indiancurrency/training/500/\"\n",
    "TESTING_NEW500_DIR = r\"D:/Chinnu_Project/VISION/CUR_Dataset/tmp/indiancurrency/testing/500/\"\n",
    "\n",
    "split_data(NEW500_SOURCE_DIR, TRAINING_NEW500_DIR, TESTING_NEW500_DIR, split_size)\n",
    "\n",
    "print(len(os.listdir(TRAINING_NEW10_DIR)))\n",
    "print(len(os.listdir(TESTING_NEW10_DIR)))\n",
    "\n",
    "print(len(os.listdir(TRAINING_OLD10_DIR)))\n",
    "print(len(os.listdir(TESTING_OLD10_DIR)))\n",
    "\n",
    "print(len(os.listdir(TRAINING_NEW100_DIR)))\n",
    "print(len(os.listdir(TESTING_NEW100_DIR)))\n",
    "\n",
    "print(len(os.listdir(TRAINING_OLD100_DIR)))\n",
    "print(len(os.listdir(TESTING_OLD100_DIR)))\n",
    "\n",
    "print(len(os.listdir(TRAINING_NEW20_DIR)))\n",
    "print(len(os.listdir(TESTING_NEW20_DIR)))\n",
    "\n",
    "print(len(os.listdir(TRAINING_NEW200_DIR)))\n",
    "print(len(os.listdir(TESTING_NEW200_DIR)))\n",
    "\n",
    "print(len(os.listdir(TRAINING_NEW2000_DIR)))\n",
    "print(len(os.listdir(TESTING_NEW2000_DIR)))\n",
    "\n",
    "print(len(os.listdir(TRAINING_NEW50_DIR)))\n",
    "print(len(os.listdir(TESTING_NEW50_DIR)))\n",
    "\n",
    "print(len(os.listdir(TRAINING_OLD50_DIR)))\n",
    "print(len(os.listdir(TESTING_OLD50_DIR)))\n",
    "\n",
    "print(len(os.listdir(TRAINING_NEW500_DIR)))\n",
    "print(len(os.listdir(TESTING_NEW500_DIR)))\n",
    "\n",
    "\n"
   ]
  },
  {
   "cell_type": "code",
   "execution_count": 7,
   "metadata": {
    "id": "KpdELB-ZZIYC"
   },
   "outputs": [],
   "source": [
    "'''class myCallback(tf.keras.callbacks.Callback):\n",
    "  def on_epoch_end(self, epoch, logs={}):\n",
    "  if(logs.get('accuracy')>0.65):\n",
    "      print(\"\\nReached 70% accuracy so cancelling training!\")\n",
    "      self.model.stop_training = True \n",
    "\n",
    "callbacks = myCallback()\n",
    "'''\n",
    "model = tf.keras.models.Sequential([\n",
    "\n",
    "    # This is the first convolution\n",
    "    tf.keras.layers.Conv2D(32, (3,3), activation='relu', input_shape=(256, 256, 3)),\n",
    "    tf.keras.layers.MaxPooling2D(2, 2),\n",
    "    # The second convolution\n",
    "    tf.keras.layers.Conv2D(32, (3,3), activation='relu'),\n",
    "    tf.keras.layers.MaxPooling2D(2,2),\n",
    "    # The third convolution\n",
    "    tf.keras.layers.Conv2D(32, (3,3), activation='relu'),\n",
    "    tf.keras.layers.MaxPooling2D(2,2),\n",
    "    # The fourth convolution\n",
    "    tf.keras.layers.Conv2D(32, (3,3), activation='relu'),\n",
    "    tf.keras.layers.MaxPooling2D(2,2),\n",
    "    # Flatten the results to feed into a DNN\n",
    "    tf.keras.layers.Flatten(),\n",
    "    # 512 neuron hidden layer\n",
    "    tf.keras.layers.Dense(512, activation='relu'),\n",
    "    tf.keras.layers.Dense(10, activation='softmax')\n",
    "])"
   ]
  },
  {
   "cell_type": "markdown",
   "metadata": {
    "id": "Fl04tgKpZOHM"
   },
   "source": []
  },
  {
   "cell_type": "code",
   "execution_count": 8,
   "metadata": {
    "colab": {
     "base_uri": "https://localhost:8080/"
    },
    "id": "7DggEe7QZOXg",
    "outputId": "030501e7-0bf8-42d5-9b0d-545cf4aef2d8"
   },
   "outputs": [
    {
     "name": "stdout",
     "output_type": "stream",
     "text": [
      "Model: \"sequential\"\n",
      "_________________________________________________________________\n",
      "Layer (type)                 Output Shape              Param #   \n",
      "=================================================================\n",
      "conv2d (Conv2D)              (None, 254, 254, 32)      896       \n",
      "_________________________________________________________________\n",
      "max_pooling2d (MaxPooling2D) (None, 127, 127, 32)      0         \n",
      "_________________________________________________________________\n",
      "conv2d_1 (Conv2D)            (None, 125, 125, 32)      9248      \n",
      "_________________________________________________________________\n",
      "max_pooling2d_1 (MaxPooling2 (None, 62, 62, 32)        0         \n",
      "_________________________________________________________________\n",
      "conv2d_2 (Conv2D)            (None, 60, 60, 32)        9248      \n",
      "_________________________________________________________________\n",
      "max_pooling2d_2 (MaxPooling2 (None, 30, 30, 32)        0         \n",
      "_________________________________________________________________\n",
      "conv2d_3 (Conv2D)            (None, 28, 28, 32)        9248      \n",
      "_________________________________________________________________\n",
      "max_pooling2d_3 (MaxPooling2 (None, 14, 14, 32)        0         \n",
      "_________________________________________________________________\n",
      "flatten (Flatten)            (None, 6272)              0         \n",
      "_________________________________________________________________\n",
      "dense (Dense)                (None, 512)               3211776   \n",
      "_________________________________________________________________\n",
      "dense_1 (Dense)              (None, 10)                5130      \n",
      "=================================================================\n",
      "Total params: 3,245,546\n",
      "Trainable params: 3,245,546\n",
      "Non-trainable params: 0\n",
      "_________________________________________________________________\n"
     ]
    }
   ],
   "source": [
    "model.summary()"
   ]
  },
  {
   "cell_type": "markdown",
   "metadata": {
    "id": "vMbjWy1JZQc0"
   },
   "source": []
  },
  {
   "cell_type": "code",
   "execution_count": 9,
   "metadata": {
    "id": "6zvATy1zZQ24"
   },
   "outputs": [],
   "source": [
    "#model.compile(loss = 'categorical_crossentropy', optimizer='rmsprop', metrics=['accuracy'])\n",
    "model.compile(optimizer='adam', loss='categorical_crossentropy', metrics=['accuracy'])"
   ]
  },
  {
   "cell_type": "markdown",
   "metadata": {
    "id": "b03gfS8_Zi4V"
   },
   "source": []
  },
  {
   "cell_type": "code",
   "execution_count": 10,
   "metadata": {
    "id": "4kGimKM-ZjKw"
   },
   "outputs": [],
   "source": [
    "train_datagen = ImageDataGenerator(\n",
    "      rescale=1./255,\n",
    "      rotation_range=90,\n",
    "      width_shift_range=0.2,\n",
    "      height_shift_range=0.2,\n",
    "      shear_range=0.2,\n",
    "      zoom_range=0.2,\n",
    "      horizontal_flip=True,\n",
    "      fill_mode='nearest')"
   ]
  },
  {
   "cell_type": "markdown",
   "metadata": {
    "id": "8Ghtpu7OZ1GT"
   },
   "source": []
  },
  {
   "cell_type": "code",
   "execution_count": 11,
   "metadata": {
    "colab": {
     "base_uri": "https://localhost:8080/"
    },
    "id": "hcm9d635Z1Y4",
    "outputId": "0247e7d0-6200-42b3-8620-828a9e667da5"
   },
   "outputs": [
    {
     "name": "stdout",
     "output_type": "stream",
     "text": [
      "Found 1959 images belonging to 10 classes.\n",
      "Found 537 images belonging to 10 classes.\n"
     ]
    }
   ],
   "source": [
    "TRAINING_DIR = 'D:/Chinnu_Project/VISION/CUR_Dataset/tmp/indiancurrency/training/'\n",
    "#train_datagen = ImageDataGenerator(rescale= 1/255)\n",
    "train_generator = train_datagen.flow_from_directory(\n",
    "    TRAINING_DIR,\n",
    "    batch_size=32,\n",
    "    class_mode='categorical',\n",
    "    target_size=(256, 256)\n",
    ")\n",
    "\n",
    "VALIDATION_DIR = 'D:/Chinnu_Project/VISION/CUR_Dataset/tmp/indiancurrency/testing/'\n",
    "validation_datagen = ImageDataGenerator(rescale= 1/255)\n",
    "validation_generator = validation_datagen.flow_from_directory(\n",
    "    VALIDATION_DIR,\n",
    "    batch_size=32,\n",
    "    class_mode='categorical',\n",
    "    target_size=(256, 256)\n",
    ")"
   ]
  },
  {
   "cell_type": "markdown",
   "metadata": {
    "id": "y5laDwzOaG3_"
   },
   "source": []
  },
  {
   "cell_type": "code",
   "execution_count": 12,
   "metadata": {
    "colab": {
     "base_uri": "https://localhost:8080/"
    },
    "id": "FkpXL5VOaHNV",
    "outputId": "7d1392e8-8407-4de1-94c6-6c98cd257c3a"
   },
   "outputs": [
    {
     "name": "stdout",
     "output_type": "stream",
     "text": [
      "Epoch 1/20\n",
      "62/62 [==============================] - 70s 1s/step - loss: 2.2059 - accuracy: 0.2124 - val_loss: 2.1964 - val_accuracy: 0.2197\n",
      "Epoch 2/20\n",
      "62/62 [==============================] - 68s 1s/step - loss: 2.1046 - accuracy: 0.2425 - val_loss: 1.8914 - val_accuracy: 0.2700\n",
      "Epoch 3/20\n",
      "62/62 [==============================] - 69s 1s/step - loss: 1.8115 - accuracy: 0.3206 - val_loss: 1.7879 - val_accuracy: 0.2495\n",
      "Epoch 4/20\n",
      "62/62 [==============================] - 68s 1s/step - loss: 1.7207 - accuracy: 0.3425 - val_loss: 1.6459 - val_accuracy: 0.3818\n",
      "Epoch 5/20\n",
      "62/62 [==============================] - 72s 1s/step - loss: 1.5319 - accuracy: 0.4191 - val_loss: 1.2400 - val_accuracy: 0.5438\n",
      "Epoch 6/20\n",
      "62/62 [==============================] - 69s 1s/step - loss: 1.4310 - accuracy: 0.4472 - val_loss: 1.2561 - val_accuracy: 0.4562\n",
      "Epoch 7/20\n",
      "62/62 [==============================] - 68s 1s/step - loss: 1.2384 - accuracy: 0.5299 - val_loss: 1.1208 - val_accuracy: 0.5698\n",
      "Epoch 8/20\n",
      "62/62 [==============================] - 68s 1s/step - loss: 1.1802 - accuracy: 0.5385 - val_loss: 1.0436 - val_accuracy: 0.5326\n",
      "Epoch 9/20\n",
      "62/62 [==============================] - 70s 1s/step - loss: 1.1032 - accuracy: 0.5584 - val_loss: 0.9600 - val_accuracy: 0.6071\n",
      "Epoch 10/20\n",
      "62/62 [==============================] - 71s 1s/step - loss: 0.9409 - accuracy: 0.6238 - val_loss: 0.7591 - val_accuracy: 0.7281\n",
      "Epoch 11/20\n",
      "62/62 [==============================] - 70s 1s/step - loss: 0.8829 - accuracy: 0.6677 - val_loss: 0.8581 - val_accuracy: 0.6518\n",
      "Epoch 12/20\n",
      "62/62 [==============================] - 69s 1s/step - loss: 0.9152 - accuracy: 0.6595 - val_loss: 0.6747 - val_accuracy: 0.7281\n",
      "Epoch 13/20\n",
      "62/62 [==============================] - 69s 1s/step - loss: 0.7938 - accuracy: 0.7034 - val_loss: 0.7171 - val_accuracy: 0.7263\n",
      "Epoch 14/20\n",
      "62/62 [==============================] - 68s 1s/step - loss: 0.8155 - accuracy: 0.6840 - val_loss: 0.7261 - val_accuracy: 0.6927\n",
      "Epoch 15/20\n",
      "62/62 [==============================] - 69s 1s/step - loss: 0.7792 - accuracy: 0.6845 - val_loss: 0.6608 - val_accuracy: 0.7616\n",
      "Epoch 16/20\n",
      "62/62 [==============================] - 68s 1s/step - loss: 0.7113 - accuracy: 0.7228 - val_loss: 0.5882 - val_accuracy: 0.7728\n",
      "Epoch 17/20\n",
      "62/62 [==============================] - 69s 1s/step - loss: 0.6847 - accuracy: 0.7478 - val_loss: 0.6159 - val_accuracy: 0.7412\n",
      "Epoch 18/20\n",
      "62/62 [==============================] - 68s 1s/step - loss: 0.6949 - accuracy: 0.7340 - val_loss: 0.8925 - val_accuracy: 0.6946\n",
      "Epoch 19/20\n",
      "62/62 [==============================] - 69s 1s/step - loss: 0.6185 - accuracy: 0.7657 - val_loss: 0.5617 - val_accuracy: 0.7803\n",
      "Epoch 20/20\n",
      "62/62 [==============================] - 70s 1s/step - loss: 0.5705 - accuracy: 0.7948 - val_loss: 0.4743 - val_accuracy: 0.8436\n"
     ]
    }
   ],
   "source": [
    "history = model.fit(\n",
    "      train_generator,\n",
    "      epochs=20,  \n",
    "      verbose=1,\n",
    "      validation_data=validation_generator)\n",
    "      #callbacks=[callbacks])"
   ]
  },
  {
   "cell_type": "code",
   "execution_count": 13,
   "metadata": {},
   "outputs": [
    {
     "name": "stdout",
     "output_type": "stream",
     "text": [
      "17/17 [==============================] - 3s 146ms/step - loss: 0.4743 - accuracy: 0.8436\n"
     ]
    }
   ],
   "source": [
    "history1 = model.evaluate(\n",
    "      validation_generator)\n",
    "      #callbacks=[callbacks])"
   ]
  },
  {
   "cell_type": "markdown",
   "metadata": {
    "id": "llM6aJV1NjtQ"
   },
   "source": [
    "Plotting loss and accuracy."
   ]
  },
  {
   "cell_type": "code",
   "execution_count": 14,
   "metadata": {
    "colab": {
     "base_uri": "https://localhost:8080/",
     "height": 545
    },
    "id": "0qLzcUp1NkDq",
    "outputId": "2cab6d00-e972-4afd-825f-bc138bafb5df"
   },
   "outputs": [
    {
     "data": {
      "image/png": "[encoded data removed]",
      "text/plain": [
       "<Figure size 640x480 with 1 Axes>"
      ]
     },
     "metadata": {},
     "output_type": "display_data"
    },
    {
     "data": {
      "image/png": "[encoded data removed]",
      "text/plain": [
       "<Figure size 640x480 with 1 Axes>"
      ]
     },
     "metadata": {},
     "output_type": "display_data"
    }
   ],
   "source": [
    "import matplotlib.pyplot as plt\n",
    "acc = history.history['accuracy']\n",
    "val_acc = history.history['val_accuracy']\n",
    "loss = history.history['loss']\n",
    "val_loss = history.history['val_loss']\n",
    "\n",
    "epochs = range(len(acc))\n",
    "\n",
    "plt.plot(epochs, acc, 'r', label='Training accuracy')\n",
    "plt.plot(epochs, val_acc, 'b', label='Validation accuracy')\n",
    "plt.title('Training and validation accuracy')\n",
    "\n",
    "plt.figure()\n",
    "\n",
    "plt.plot(epochs, loss, 'r', label='Training Loss')\n",
    "plt.plot(epochs, val_loss, 'b', label='Validation Loss')\n",
    "plt.title('Training and validation loss')\n",
    "plt.legend()\n",
    "\n",
    "plt.show()"
   ]
  },
  {
   "cell_type": "markdown",
   "metadata": {
    "id": "-wnt_PHhNVDH"
   },
   "source": [
    "Predicting with new images."
   ]
  },
  {
   "cell_type": "code",
   "execution_count": 15,
   "metadata": {
    "colab": {
     "base_uri": "https://localhost:8080/",
     "height": 89,
     "resources": {
      "http://localhost:8080/nbextensions/google.colab/files.js": {
       "data": "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",
       "headers": [
        [
         "content-type",
         "application/javascript"
        ]
       ],
       "ok": true,
       "status": 200,
       "status_text": ""
      }
     }
    },
    "id": "HaOHs9-iNVb7",
    "outputId": "28271fc6-57c0-4e1f-8a6b-3669dbae6cde"
   },
   "outputs": [
    {
     "data": {
      "text/plain": [
       "\"import numpy as np\\nfrom google.colab import files\\nfrom keras.preprocessing import image\\n\\nuploaded = files.upload()\\n\\nfor fn in uploaded.keys():\\n \\n  # predicting images\\n  path = fn\\n  img = image.load_img(path, target_size=(256, 256))\\n  x = image.img_to_array(img)\\n  x = np.expand_dims(x, axis=0)\\n\\n  images = np.vstack([x])\\n\\n  #predictions = model.predict(images,batch_size=32)\\n  #class_names = ['10RsNote', '10RsNote', '100RsNote', '100RsNote','20RsNote','200RsNote', '2000RsNote','50RsNote','50RsNote','500RsNote']\\n  #print(model.predict_classes())\\n  print(np.argmax(model.predict(images), axis=-1))\""
      ]
     },
     "execution_count": 15,
     "metadata": {},
     "output_type": "execute_result"
    }
   ],
   "source": [
    "'''import numpy as np\n",
    "from google.colab import files\n",
    "from keras.preprocessing import image\n",
    "\n",
    "uploaded = files.upload()\n",
    "\n",
    "for fn in uploaded.keys():\n",
    " \n",
    "  # predicting images\n",
    "  path = fn\n",
    "  img = image.load_img(path, target_size=(256, 256))\n",
    "  x = image.img_to_array(img)\n",
    "  x = np.expand_dims(x, axis=0)\n",
    "\n",
    "  images = np.vstack([x])\n",
    "\n",
    "  #predictions = model.predict(images,batch_size=32)\n",
    "  #class_names = ['10RsNote', '10RsNote', '100RsNote', '100RsNote','20RsNote','200RsNote', '2000RsNote','50RsNote','50RsNote','500RsNote']\n",
    "  #print(model.predict_classes())\n",
    "  print(np.argmax(model.predict(images), axis=-1))'''"
   ]
  },
  {
   "cell_type": "markdown",
   "metadata": {
    "id": "DMDfWDtkDSVU"
   },
   "source": [
    "Export the model\n"
   ]
  },
  {
   "cell_type": "code",
   "execution_count": 16,
   "metadata": {
    "colab": {
     "base_uri": "https://localhost:8080/"
    },
    "id": "yglkVaQTDWaS",
    "outputId": "e710e0ab-5c99-4f9b-e114-4ccd3e40b95f"
   },
   "outputs": [
    {
     "name": "stdout",
     "output_type": "stream",
     "text": [
      "INFO:tensorflow:Assets written to: exp_saved_model\\assets\n",
      "['serving_default']\n",
      "((), {'conv2d_input': TensorSpec(shape=(None, 256, 256, 3), dtype=tf.float32, name='conv2d_input')})\n",
      "{'dense_1': TensorSpec(shape=(None, 10), dtype=tf.float32, name='dense_1')}\n"
     ]
    }
   ],
   "source": [
    "INDIAN_CURRENCY_SAVED_MODEL = \"exp_saved_model\"\n",
    "tf.saved_model.save(model, INDIAN_CURRENCY_SAVED_MODEL)\n",
    "loaded = tf.saved_model.load(INDIAN_CURRENCY_SAVED_MODEL)\n",
    "print(list(loaded.signatures.keys()))\n",
    "infer = loaded.signatures[\"serving_default\"]\n",
    "print(infer.structured_input_signature)\n",
    "print(infer.structured_outputs)"
   ]
  },
  {
   "cell_type": "markdown",
   "metadata": {
    "id": "ij0uwP73D-6c"
   },
   "source": [
    "Convert using TFLite's converter"
   ]
  },
  {
   "cell_type": "code",
   "execution_count": 17,
   "metadata": {
    "id": "i6381dvsECyA"
   },
   "outputs": [],
   "source": [
    "converter = tf.lite.TFLiteConverter.from_saved_model(INDIAN_CURRENCY_SAVED_MODEL)\n",
    "converter.optimizations = [tf.lite.Optimize.DEFAULT]\n",
    "\n",
    "tflite_model = converter.convert()\n",
    "tflite_model_file = 'converted_model.tflite'\n",
    "\n",
    "with open(tflite_model_file, \"wb\") as f:\n",
    "    f.write(tflite_model)"
   ]
  },
  {
   "cell_type": "markdown",
   "metadata": {
    "id": "PSJE65TmGiHB"
   },
   "source": [
    "CREATING LABEL.TXT"
   ]
  },
  {
   "cell_type": "code",
   "execution_count": 18,
   "metadata": {
    "id": "EKPyCRhcGj9B"
   },
   "outputs": [],
   "source": [
    "labels = ['10 Rupees', 'Rupees 10','100 Rupees','Rupees 100','20 Rupees','200 Rupees','2000 Rupees','50 Rupees','Rupees 50','500 Rupees']\n",
    "\n",
    "with open('labels.txt', 'w') as f:\n",
    "    f.write('\\n'.join(labels))"
   ]
  },
  {
   "cell_type": "markdown",
   "metadata": {
    "id": "MIjUgiBxHGXF"
   },
   "source": [
    "Downloading files"
   ]
  },
  {
   "cell_type": "code",
   "execution_count": 19,
   "metadata": {
    "colab": {
     "base_uri": "https://localhost:8080/",
     "height": 17
    },
    "id": "S5xE4vLyHH3_",
    "outputId": "d11f04a9-75f4-4e0c-c79f-0fbb6774c56a"
   },
   "outputs": [],
   "source": [
    "\n",
    "try:\n",
    "    from google.colab import files\n",
    "    files.download('converted_model.tflite')\n",
    "    files.download('labels.txt')\n",
    "except:\n",
    "    pass"
   ]
  },
  {
   "cell_type": "code",
   "execution_count": null,
   "metadata": {},
   "outputs": [],
   "source": []
  },
  {
   "cell_type": "code",
   "execution_count": null,
   "metadata": {},
   "outputs": [],
   "source": []
  },
  {
   "cell_type": "code",
   "execution_count": null,
   "metadata": {},
   "outputs": [],
   "source": []
  }
 ],
 "metadata": {
  "accelerator": "GPU",
  "colab": {
   "authorship_tag": "ABX9TyPZbocbqfquKVVIbtuxar1k",
   "collapsed_sections": [],
   "include_colab_link": true,
   "mount_file_id": "1tM9_Rz5FBR89H0wonY0E8tUQHpfqqQWv",
   "name": "SGPCurrDetect.ipynb",
   "provenance": []
  },
  "kernelspec": {
   "display_name": "Python 3 (ipykernel)",
   "language": "python",
   "name": "python3"
  },
  "language_info": {
   "codemirror_mode": {
    "name": "ipython",
    "version": 3
   },
   "file_extension": ".py",
   "mimetype": "text/x-python",
   "name": "python",
   "nbconvert_exporter": "python",
   "pygments_lexer": "ipython3",
   "version": "3.9.13"
  }
 },
 "nbformat": 4,
 "nbformat_minor": 1
}
